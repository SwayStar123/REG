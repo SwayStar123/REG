{
 "cells": [
  {
   "cell_type": "code",
   "execution_count": 1,
   "id": "2abe4a1f",
   "metadata": {},
   "outputs": [
    {
     "name": "stderr",
     "output_type": "stream",
     "text": [
      "/root/stuff/venv/lib/python3.11/site-packages/tqdm/auto.py:21: TqdmWarning: IProgress not found. Please update jupyter and ipywidgets. See https://ipywidgets.readthedocs.io/en/stable/user_install.html\n",
      "  from .autonotebook import tqdm as notebook_tqdm\n"
     ]
    }
   ],
   "source": [
    "import torch\n",
    "import numpy as np\n",
    "from pathlib import Path\n",
    "from PIL import Image\n",
    "from torchvision.transforms import Normalize\n",
    "from timm.data import IMAGENET_DEFAULT_MEAN, IMAGENET_DEFAULT_STD\n",
    "from utils import load_encoders\n",
    "\n",
    "# filepath: REG/extract_dinov2_embeddings.py\n",
    "\n",
    "\n",
    "CLIP_DEFAULT_MEAN = (0.48145466, 0.4578275, 0.40821073)\n",
    "CLIP_DEFAULT_STD = (0.26862954, 0.26130258, 0.27577711)\n",
    "\n",
    "def preprocess_raw_image(x: torch.Tensor, enc_type: str) -> torch.Tensor:\n",
    "    resolution = x.shape[-1]\n",
    "    if 'clip' in enc_type:\n",
    "        x = x.float() / 255.0\n",
    "        x = torch.nn.functional.interpolate(x, 224 * (resolution // 256), mode='bicubic', align_corners=False)\n",
    "        x = Normalize(CLIP_DEFAULT_MEAN, CLIP_DEFAULT_STD)(x)\n",
    "    elif 'mocov3' in enc_type or 'mae' in enc_type:\n",
    "        x = x.float() / 255.0\n",
    "        x = Normalize(IMAGENET_DEFAULT_MEAN, IMAGENET_DEFAULT_STD)(x)\n",
    "    elif 'dinov2' in enc_type:\n",
    "        x = x.float() / 255.0\n",
    "        x = Normalize(IMAGENET_DEFAULT_MEAN, IMAGENET_DEFAULT_STD)(x)\n",
    "        x = torch.nn.functional.interpolate(x, 224 * (resolution // 256), mode='bicubic', align_corners=False)\n",
    "    elif 'dinov1' in enc_type:\n",
    "        x = x.float() / 255.0\n",
    "        x = Normalize(IMAGENET_DEFAULT_MEAN, IMAGENET_DEFAULT_STD)(x)\n",
    "    elif 'jepa' in enc_type:\n",
    "        x = x.float() / 255.0\n",
    "        x = Normalize(IMAGENET_DEFAULT_MEAN, IMAGENET_DEFAULT_STD)(x)\n",
    "        x = torch.nn.functional.interpolate(x, 224 * (resolution // 256), mode='bicubic', align_corners=False)\n",
    "    return x\n",
    "\n",
    "def load_image_uint8(path: Path) -> torch.Tensor:\n",
    "    img = Image.open(path).convert(\"RGB\")\n",
    "    arr = np.array(img)  # HWC, uint8\n",
    "    ten = torch.from_numpy(arr).permute(2, 0, 1).to(torch.uint8)  # CHW\n",
    "    return ten.unsqueeze(0)  # 1,C,H,W\n",
    "\n"
   ]
  },
  {
   "cell_type": "code",
   "execution_count": 2,
   "id": "b25a06ca",
   "metadata": {},
   "outputs": [
    {
     "name": "stderr",
     "output_type": "stream",
     "text": [
      "Using cache found in /root/.cache/torch/hub/facebookresearch_dinov2_main\n",
      "/root/.cache/torch/hub/facebookresearch_dinov2_main/dinov2/layers/swiglu_ffn.py:43: UserWarning: xFormers is available (SwiGLU)\n",
      "  warnings.warn(\"xFormers is available (SwiGLU)\")\n",
      "/root/.cache/torch/hub/facebookresearch_dinov2_main/dinov2/layers/attention.py:27: UserWarning: xFormers is available (Attention)\n",
      "  warnings.warn(\"xFormers is available (Attention)\")\n",
      "/root/.cache/torch/hub/facebookresearch_dinov2_main/dinov2/layers/block.py:33: UserWarning: xFormers is available (Block)\n",
      "  warnings.warn(\"xFormers is available (Block)\")\n"
     ]
    },
    {
     "name": "stdout",
     "output_type": "stream",
     "text": [
      "Now you are using the dinov2-vit-b as the aligning model\n"
     ]
    }
   ],
   "source": [
    "device = torch.device(\"cuda\" if torch.cuda.is_available() else \"cpu\")\n",
    "enc_type = \"dinov2-vit-b\"\n",
    "resolution = 256\n",
    "\n",
    "# Resolve image path\n",
    "image_path = Path(\"REG/dataset/images/00000/img00000000.png\")\n",
    "if not image_path.exists():\n",
    "    image_path = Path(\"dataset/images/00000/img00000000.png\")\n",
    "if not image_path.exists():\n",
    "    raise FileNotFoundError(\"Test image not found at REG/dataset/... or dataset/...\")\n",
    "\n",
    "# Load encoder\n",
    "encoders, encoder_types, architectures = load_encoders(enc_type, device, resolution)\n",
    "encoder = encoders[0].to(device).eval()\n",
    "encoder_type = encoder_types[0]\n",
    "\n",
    "# Load and preprocess image (uint8 -> float + norm + resize like train.py)\n",
    "raw_image = load_image_uint8(image_path).to(device)  # [1,3,H,W] uint8\n",
    "x = preprocess_raw_image(raw_image, encoder_type)     # [1,3,224,224] float\n",
    "\n"
   ]
  },
  {
   "cell_type": "code",
   "execution_count": 3,
   "id": "cefe564f",
   "metadata": {},
   "outputs": [
    {
     "name": "stdout",
     "output_type": "stream",
     "text": [
      "cls_token shape: torch.Size([1, 768])\n",
      "dense_tokens shape: torch.Size([1, 257, 768])\n"
     ]
    }
   ],
   "source": [
    "with torch.no_grad():\n",
    "    feats = encoder.forward_features(x)\n",
    "    if 'dinov2' in encoder_type:\n",
    "        patch_tokens = feats['x_norm_patchtokens']       # [B, N, C]\n",
    "        cls_token = feats['x_norm_clstoken']             # [B, C]\n",
    "        dense_tokens = torch.cat([cls_token.unsqueeze(1), patch_tokens], dim=1)  # [B, 1+N, C]\n",
    "    else:\n",
    "        raise RuntimeError(f\"Unsupported encoder_type: {encoder_type}\")\n",
    "\n",
    "print(f\"cls_token shape: {cls_token.shape}\")          # [1, C]\n",
    "print(f\"dense_tokens shape: {dense_tokens.shape}\")    # [1, 1+N, C]"
   ]
  },
  {
   "cell_type": "code",
   "execution_count": 10,
   "id": "8c515b9f",
   "metadata": {},
   "outputs": [
    {
     "data": {
      "image/png": "[encoded data removed]",
      "text/plain": [
       "<Figure size 400x400 with 1 Axes>"
      ]
     },
     "metadata": {},
     "output_type": "display_data"
    }
   ],
   "source": [
    "import numpy as np\n",
    "\n",
    "import matplotlib.pyplot as plt\n",
    "\n",
    "# Select first 3 channels and reshape to patch grid (H, W, 3)\n",
    "B, N, C = patch_tokens.shape\n",
    "hw = int(round(N ** 0.5))\n",
    "assert hw * hw == N, f\"Patch count {N} is not a perfect square.\"\n",
    "pt3 = patch_tokens[0, :, 6:9].detach().cpu().numpy().reshape(hw, hw, 3)\n",
    "# pt3 = patch_tokens.mean(2).detach().cpu().numpy().reshape(hw, hw)  # For grayscale\n",
    "\n",
    "# Normalize per-channel to [0, 1] for visualization\n",
    "pt3_norm = pt3.copy()\n",
    "for c in range(3):\n",
    "    ch = pt3_norm[..., c]\n",
    "    ch_min, ch_max = ch.min(), ch.max()\n",
    "    if ch_max > ch_min:\n",
    "        pt3_norm[..., c] = (ch - ch_min) / (ch_max - ch_min)\n",
    "    else:\n",
    "        pt3_norm[..., c] = 0.5\n",
    "\n",
    "plt.figure(figsize=(4, 4))\n",
    "plt.imshow(pt3_norm)\n",
    "plt.title(\"First 3 patch token channels\")\n",
    "plt.axis(\"off\")\n",
    "plt.show()"
   ]
  },
  {
   "cell_type": "code",
   "execution_count": null,
   "id": "f363ded1",
   "metadata": {},
   "outputs": [],
   "source": [
    "# Downsample patch_tokens from 16x16 (256) to 8x8 (64) via bilinear interpolation\n",
    "B, N, C = patch_tokens.shape\n",
    "assert hw * hw == N, f\"Patch tokens count ({N}) != hw^2 ({hw}^2)\"\n",
    "\n",
    "pt_grid = patch_tokens.view(B, hw, hw, C).permute(0, 3, 1, 2)  # [B, C, 16, 16]\n",
    "pt_grid_8 = torch.nn.functional.interpolate(pt_grid, size=(8, 8), mode='bilinear', align_corners=False)\n",
    "patch_tokens_8x8 = pt_grid_8.permute(0, 2, 3, 1).reshape(B, 8 * 8, C)  # [B, 64, C]\n",
    "\n",
    "print(f\"patch_tokens_8x8 shape: {patch_tokens_8x8.shape}\")\n",
    "\n",
    "# Plot first 3 channels (matching selection strategy from cell 3: channels 6:9)\n",
    "pt3_8 = patch_tokens_8x8[0, :, 6:9].detach().cpu().numpy().reshape(8, 8, 3)\n",
    "\n",
    "# Normalize per-channel to [0, 1] for visualization\n",
    "pt3_8_norm = pt3_8.copy()\n",
    "for c in range(3):\n",
    "    ch = pt3_8_norm[..., c]\n",
    "    ch_min, ch_max = ch.min(), ch.max()\n",
    "    pt3_8_norm[..., c] = (ch - ch_min) / (ch_max - ch_min) if ch_max > ch_min else 0.5\n",
    "\n",
    "plt.figure(figsize=(3, 3))\n",
    "plt.imshow(pt3_8_norm)\n",
    "plt.title(\"8x8 patch token channels (6:9)\")\n",
    "plt.axis(\"off\")\n",
    "plt.show()"
   ]
  },
  {
   "cell_type": "code",
   "execution_count": 13,
   "id": "4e2773da",
   "metadata": {},
   "outputs": [
    {
     "name": "stdout",
     "output_type": "stream",
     "text": [
      "patch_tokens_8x8 shape: torch.Size([1, 64, 768])\n"
     ]
    },
    {
     "data": {
      "image/png": "[encoded data removed]",
      "text/plain": [
       "<Figure size 300x300 with 1 Axes>"
      ]
     },
     "metadata": {},
     "output_type": "display_data"
    }
   ],
   "source": [
    "# Downsample patch_tokens from 16x16 (256) to 8x8 (64) via bilinear interpolation\n",
    "B, N, C = patch_tokens.shape\n",
    "assert hw * hw == N, f\"Patch tokens count ({N}) != hw^2 ({hw}^2)\"\n",
    "\n",
    "pt_grid = patch_tokens.view(B, hw, hw, C).permute(0, 3, 1, 2)  # [B, C, 16, 16]\n",
    "pt_grid_8 = torch.nn.functional.interpolate(pt_grid, size=(8, 8), mode='bilinear', align_corners=False)\n",
    "patch_tokens_8x8 = pt_grid_8.permute(0, 2, 3, 1).reshape(B, 8 * 8, C)  # [B, 64, C]\n",
    "\n",
    "print(f\"patch_tokens_8x8 shape: {patch_tokens_8x8.shape}\")\n",
    "\n",
    "# Plot first 3 channels (matching selection strategy from cell 3: channels 6:9)\n",
    "pt3_8 = patch_tokens_8x8[0, :, 6:9].detach().cpu().numpy().reshape(8, 8, 3)\n",
    "\n",
    "# Normalize per-channel to [0, 1] for visualization\n",
    "pt3_8_norm = pt3_8.copy()\n",
    "for c in range(3):\n",
    "    ch = pt3_8_norm[..., c]\n",
    "    ch_min, ch_max = ch.min(), ch.max()\n",
    "    pt3_8_norm[..., c] = (ch - ch_min) / (ch_max - ch_min) if ch_max > ch_min else 0.5\n",
    "\n",
    "plt.figure(figsize=(3, 3))\n",
    "plt.imshow(pt3_8_norm)\n",
    "plt.title(\"8x8 patch token channels (6:9)\")\n",
    "plt.axis(\"off\")\n",
    "plt.show()"
   ]
  }
 ],
 "metadata": {
  "kernelspec": {
   "display_name": "venv",
   "language": "python",
   "name": "python3"
  },
  "language_info": {
   "codemirror_mode": {
    "name": "ipython",
    "version": 3
   },
   "file_extension": ".py",
   "mimetype": "text/x-python",
   "name": "python",
   "nbconvert_exporter": "python",
   "pygments_lexer": "ipython3",
   "version": "3.11.12"
  }
 },
 "nbformat": 4,
 "nbformat_minor": 5
}
